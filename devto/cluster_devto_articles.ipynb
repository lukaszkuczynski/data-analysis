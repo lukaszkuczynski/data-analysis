{
 "cells": [
  {
   "cell_type": "code",
   "execution_count": null,
   "metadata": {
    "collapsed": true
   },
   "outputs": [],
   "source": [
    "%matplotlib inline\n",
    "import matplotlib.pyplot as plt\n",
    "import pandas as pd\n",
    "import seaborn as sns\n",
    "import numpy as np"
   ]
  },
  {
   "cell_type": "markdown",
   "metadata": {},
   "source": [
    "# Data preparation"
   ]
  },
  {
   "cell_type": "code",
   "execution_count": null,
   "metadata": {
    "collapsed": false
   },
   "outputs": [],
   "source": [
    "def read_from_files():\n",
    "    df_python = pd.read_csv('data\\python_posts.csv')\n",
    "    df_python['tag'] = 0\n",
    "    df_python['tag_text'] = 'python'\n",
    "    df_java = pd.read_csv('data\\java_posts.csv')\n",
    "    df_java['tag'] = 1\n",
    "    df_java['tag_text'] = 'java'\n",
    "    df_javascript = pd.read_csv('data\\javascript_posts.csv')\n",
    "    df_javascript['tag'] = 2\n",
    "    df_javascript['tag_text'] = 'javascript'\n",
    "    df_devops = pd.read_csv('data\\devops_posts.csv')\n",
    "    df_devops['tag'] = 3\n",
    "    df_devops['tag_text'] = 'devops'\n",
    "    frames = [df_python, df_java, df_javascript, df_devops]\n",
    "    df = pd.concat(frames)\n",
    "    df = df.dropna()\n",
    "    df = df.set_index('id')\n",
    "    return df\n",
    "\n",
    "# df = read_from_files()\n",
    "# df.head()"
   ]
  },
  {
   "cell_type": "markdown",
   "metadata": {},
   "source": [
    "## languages\n",
    "Filter out other languages"
   ]
  },
  {
   "cell_type": "code",
   "execution_count": null,
   "metadata": {
    "collapsed": false
   },
   "outputs": [],
   "source": [
    "from langdetect import detect\n",
    "from langdetect.detector import LangDetectException\n",
    "\n",
    "def remove_non_englis_posts(df):\n",
    "    def lang_for_row(row):\n",
    "        lang = None\n",
    "        try:\n",
    "            lang = detect(row[\"content\"])\n",
    "        except LangDetectException as e:\n",
    "            pass\n",
    "    #         print(\"caught\")\n",
    "        return lang\n",
    "    df['lang'] = df.apply(lang_for_row, axis=1)\n",
    "    df.head()\n",
    "    before = len(df.index)\n",
    "    df = df[df['lang'] == 'en']\n",
    "    after = len(df.index)\n",
    "    print(\"removed %d rows because detected as not English\" % (before-after))\n",
    "    return df\n",
    "\n",
    "import pickle\n",
    "# with open('data/posts.pickle', 'wb') as f:\n",
    "#     pickle.dump(df, f)\n",
    "def read_from_pickle():\n",
    "    with open('data/posts.pickle', 'rb') as f:\n",
    "        return pickle.load(f)\n",
    "    \n",
    "df = read_from_pickle()\n",
    "df.head()"
   ]
  },
  {
   "cell_type": "markdown",
   "metadata": {},
   "source": [
    "## create tokens"
   ]
  },
  {
   "cell_type": "code",
   "execution_count": null,
   "metadata": {
    "collapsed": false
   },
   "outputs": [],
   "source": [
    "from nltk.tokenize import WhitespaceTokenizer\n",
    "tokenizer = WhitespaceTokenizer()\n",
    "\n",
    "def tokenize(row):\n",
    "    tokens = tokenizer.tokenize(row['content'])\n",
    "    row['tokens'] = [str.lower(token) for token in tokens]\n",
    "    return row\n",
    "\n",
    "df = df.apply(tokenize, axis=1)\n",
    "df.describe()\n",
    "# tokenizer.tokenize(\"zzz zz\")"
   ]
  },
  {
   "cell_type": "markdown",
   "metadata": {},
   "source": [
    "## remove stopwords"
   ]
  },
  {
   "cell_type": "code",
   "execution_count": null,
   "metadata": {
    "collapsed": false
   },
   "outputs": [],
   "source": [
    "import nltk\n",
    "from nltk.corpus import stopwords\n",
    "nltk.download('stopwords')\n",
    "\n",
    "def remove_stopwords(row):\n",
    "    stop_words = stopwords.words('english')\n",
    "    row['tokens'] = [w for w in row['tokens'] if not w in stop_words] \n",
    "    return row\n",
    "    \n",
    "df = df.apply(remove_stopwords, axis=1)\n",
    "df.head()"
   ]
  },
  {
   "cell_type": "markdown",
   "metadata": {},
   "source": [
    "## [stemming]"
   ]
  },
  {
   "cell_type": "code",
   "execution_count": null,
   "metadata": {
    "collapsed": false
   },
   "outputs": [],
   "source": [
    "import nltk\n",
    "\n",
    "porter = nltk.PorterStemmer()\n",
    "\n",
    "def simplify(row):\n",
    "    row['tokens'] = [porter.stem(token) for token in row['tokens']] \n",
    "    return row\n",
    "    \n",
    "df = df.apply(simplify, axis=1)\n",
    "df.head()"
   ]
  },
  {
   "cell_type": "markdown",
   "metadata": {},
   "source": [
    "# Vectorization"
   ]
  },
  {
   "cell_type": "code",
   "execution_count": null,
   "metadata": {
    "collapsed": false
   },
   "outputs": [],
   "source": [
    "from sklearn.feature_extraction.text import CountVectorizer, HashingVectorizer, TfidfVectorizer\n",
    "# vectorizer = HashingVectorizer(alternate_sign=False, norm='l2', binary=False)\n",
    "vectorizer = TfidfVectorizer(max_df=0.5, min_df=4, use_idf=True)\n",
    "df['features'] = df.apply(lambda row: ' '.join(row['tokens']), axis=1)\n",
    "vectorizer = vectorizer.fit(df['features'])\n",
    "X = vectorizer.transform(df['features'])\n",
    "df.head()\n",
    "X.shape\n",
    "# X[0]"
   ]
  },
  {
   "cell_type": "markdown",
   "metadata": {},
   "source": [
    "# Clustering"
   ]
  },
  {
   "cell_type": "markdown",
   "metadata": {},
   "source": [
    "## Normalization"
   ]
  },
  {
   "cell_type": "code",
   "execution_count": null,
   "metadata": {
    "collapsed": false
   },
   "outputs": [],
   "source": [
    "from sklearn.feature_selection import SelectKBest\n",
    "from sklearn.preprocessing import Normalizer\n",
    "from sklearn.pipeline import Pipeline\n",
    "\n",
    "kbest = SelectKBest(k=100)\n",
    "y = df['tag']\n",
    "\n",
    "normalizer = Normalizer()\n",
    "\n",
    "pipeline = Pipeline([('kbest', kbest), ('norm', normalizer)])\n",
    "\n",
    "X_norm = pipeline.fit_transform(X, y)"
   ]
  },
  {
   "cell_type": "markdown",
   "metadata": {},
   "source": [
    "## Clustering work"
   ]
  },
  {
   "cell_type": "code",
   "execution_count": null,
   "metadata": {
    "collapsed": false
   },
   "outputs": [],
   "source": [
    "import matplotlib.pyplot as plt\n",
    "from sklearn.cluster import KMeans\n",
    "\n",
    "def elbow(X):\n",
    "    K = range(1,30,3)\n",
    "    distortions = []\n",
    "    for k in K:\n",
    "        kmeans_for_k = KMeans(n_clusters=k, random_state=0, n_jobs=-1, verbose=2).fit(X)\n",
    "    #     kmeans = KMeans(n_clusters=NO_OF_CLUSTERS, init='k-means++', max_iter=100, n_init=50, random_state=0, n_jobs=-1, verbose=2).fit(X_norm)\n",
    "        distortion = kmeans_for_k.inertia_\n",
    "        distortions.append(distortion)\n",
    "\n",
    "\n",
    "    #     y_pred = kmeans.predict(X_norm)\n",
    "    \n",
    "    # y_pred_proba = kmeans.predict_proba(X_norm)\n",
    "\n",
    "\n",
    "    plt.plot(K, distortions, 'bx-')\n",
    "    plt.xlabel('k')\n",
    "    plt.ylabel('Sum of Squared Errors')\n",
    "    plt.title('The Elbow Method showing the optimal k')\n",
    "    plt.show()\n",
    "elbow(X_norm)"
   ]
  },
  {
   "cell_type": "markdown",
   "metadata": {},
   "source": [
    "## Centroids"
   ]
  },
  {
   "cell_type": "code",
   "execution_count": null,
   "metadata": {
    "collapsed": false,
    "scrolled": false
   },
   "outputs": [],
   "source": [
    "NO_OF_CLUSTERS=4\n",
    "TOP_ELEMENT_COUNT=60\n",
    "\n",
    "def show_centroids(X):\n",
    "    kmeans_for_k = KMeans(n_clusters=NO_OF_CLUSTERS,  random_state=0, n_jobs=-1, verbose=2).fit(X)\n",
    "    from wordcloud import WordCloud\n",
    "    import matplotlib.pyplot as plt\n",
    "    centroids = kmeans_for_k.cluster_centers_.argsort()[:, ::-1]\n",
    "    terms = vectorizer.get_feature_names()\n",
    "    for n in range(NO_OF_CLUSTERS):\n",
    "        print(\"cluster %d\" % n)\n",
    "        elems = [terms[index] for index in centroids[n, :TOP_ELEMENT_COUNT]]\n",
    "        wc = WordCloud().generate(' '.join(elems))\n",
    "        plt.imshow(wc, interpolation='bilinear')\n",
    "        plt.axis(\"off\")\n",
    "        plt.show()\n",
    "        \n",
    "show_centroids(X_norm)"
   ]
  },
  {
   "cell_type": "markdown",
   "metadata": {},
   "source": [
    "# Visualization"
   ]
  },
  {
   "cell_type": "code",
   "execution_count": null,
   "metadata": {
    "collapsed": false
   },
   "outputs": [],
   "source": [
    "from sklearn.manifold import TSNE\n",
    "from sklearn.decomposition import PCA\n",
    "\n",
    "# tsne = TSNE(n_components=2, init='pca', random_state=0)\n",
    "# X_tsne = tsne.fit_transform(X.toarray())\n",
    "# df['x-tsne'] = X_tsne[:,0]\n",
    "# df['y-tsne'] = X_tsne[:,1]"
   ]
  },
  {
   "cell_type": "code",
   "execution_count": null,
   "metadata": {
    "collapsed": false
   },
   "outputs": [],
   "source": [
    "# df['cluster'] = kmeans_for_k.predict(X)\n",
    "# sns.scatterplot(data=df, x='x-tsne', y='y-tsne', hue='cluster')"
   ]
  },
  {
   "cell_type": "markdown",
   "metadata": {},
   "source": [
    "# Classify"
   ]
  },
  {
   "cell_type": "markdown",
   "metadata": {},
   "source": [
    "## Train"
   ]
  },
  {
   "cell_type": "code",
   "execution_count": null,
   "metadata": {
    "collapsed": false
   },
   "outputs": [],
   "source": [
    "y = df.tag\n",
    "\n",
    "from sklearn.model_selection import train_test_split \n",
    "X_train, X_test, y_train, y_test = train_test_split(X, y, random_state=0)\n",
    "\n",
    "def get_bayes(X, y):\n",
    "    from sklearn.naive_bayes import GaussianNB\n",
    "    bayes = GaussianNB()\n",
    "    model = bayes.fit(X, y)\n",
    "    return model\n",
    "\n",
    "classifier = get_bayes(X_train.toarray(), y_train)\n",
    "classifier"
   ]
  },
  {
   "cell_type": "markdown",
   "metadata": {},
   "source": [
    "## Score"
   ]
  },
  {
   "cell_type": "code",
   "execution_count": null,
   "metadata": {
    "collapsed": false
   },
   "outputs": [],
   "source": [
    "def score_classifier(classifier, X_test, y_test):\n",
    "    from sklearn.metrics import classification_report, confusion_matrix\n",
    "    y_pred = classifier.predict(X_test)\n",
    "    print(classification_report(y_test, y_pred))\n",
    "    print(confusion_matrix(y_test, y_pred, labels=[0,1]))\n",
    "score = score_classifier(classifier, X_test.toarray(), y_test)"
   ]
  },
  {
   "cell_type": "code",
   "execution_count": null,
   "metadata": {
    "collapsed": false
   },
   "outputs": [],
   "source": [
    "score = score_classifier(classifier, X_test.toarray(), y_test)"
   ]
  },
  {
   "cell_type": "markdown",
   "metadata": {},
   "source": [
    "## Reduce dimensions"
   ]
  },
  {
   "cell_type": "code",
   "execution_count": null,
   "metadata": {
    "collapsed": false
   },
   "outputs": [],
   "source": [
    "from sklearn.decomposition import PCA\n",
    "from sklearn.metrics import accuracy_score\n",
    "\n",
    "def pca_for_range(X, counts):\n",
    "    scores = []\n",
    "    for count in counts:\n",
    "        pca = PCA(n_components=count, random_state=0)\n",
    "#         print(\"Before dim reduction shape is (%d,%d)\" % X.shape)\n",
    "        X_reduced = pca.fit_transform(X.toarray())\n",
    "        print(\"After dim reduction shape is (%d,%d)\" % X_reduced.shape)\n",
    "        X_train, X_test, y_train, y_test = train_test_split(X_reduced, y, random_state=0)\n",
    "        classifier = get_bayes(X_train, y_train)\n",
    "        y_pred = classifier.predict(X_test)\n",
    "        score = accuracy_score(y_test, y_pred)\n",
    "        scores.append(score)\n",
    "\n",
    "    plt.plot(counts, scores)"
   ]
  },
  {
   "cell_type": "markdown",
   "metadata": {},
   "source": [
    "Trying to find optimal number of components.\n",
    "First we perform w big range search, and then more granular one."
   ]
  },
  {
   "cell_type": "code",
   "execution_count": null,
   "metadata": {
    "collapsed": false
   },
   "outputs": [],
   "source": [
    "pca_for_range(X, range(1,100,5))"
   ]
  },
  {
   "cell_type": "code",
   "execution_count": null,
   "metadata": {
    "collapsed": false
   },
   "outputs": [],
   "source": [
    "pca_for_range(X, range(10,30,1))"
   ]
  },
  {
   "cell_type": "markdown",
   "metadata": {},
   "source": [
    "Optimal number of components seems to be 21."
   ]
  },
  {
   "cell_type": "code",
   "execution_count": null,
   "metadata": {
    "collapsed": false
   },
   "outputs": [],
   "source": [
    "OPTIMAL_COMPONENTS = 21\n",
    "pca = PCA(n_components=OPTIMAL_COMPONENTS)\n",
    "pca.fit(X.toarray())"
   ]
  },
  {
   "cell_type": "markdown",
   "metadata": {},
   "source": [
    "We can learn about most influential feauters for every principal component.  In case of our dataset it means that we had the most characteristic words as for a component"
   ]
  },
  {
   "cell_type": "code",
   "execution_count": null,
   "metadata": {
    "collapsed": false
   },
   "outputs": [],
   "source": [
    "feats = vectorizer.get_feature_names()\n",
    "dfcomponents = pd.DataFrame(columns=feats, data=pca.components_)\n",
    "dfcomponents.idxmax(axis=1)"
   ]
  },
  {
   "cell_type": "code",
   "execution_count": null,
   "metadata": {
    "collapsed": false
   },
   "outputs": [],
   "source": [
    "X_pca = pca.transform(X.toarray())\n",
    "pca2 = PCA(n_components=2, random_state=0)\n",
    "X_pca2 = pca2.fit_transform(X_pca)\n",
    "\n",
    "kmeans_for_k.fit(X_pca2)\n",
    "df['cluster'] = kmeans_for_k.predict(X_pca2)\n",
    "df['pca1'] = X_pca2[:,0]\n",
    "df['pca2'] = X_pca2[:,1]\n",
    "# df['pca1'] = y[0]b"
   ]
  },
  {
   "cell_type": "code",
   "execution_count": null,
   "metadata": {
    "collapsed": false
   },
   "outputs": [],
   "source": [
    "sns.scatterplot(data=df, x='pca1', y='pca2', hue='cluster')"
   ]
  },
  {
   "cell_type": "code",
   "execution_count": null,
   "metadata": {
    "collapsed": false,
    "scrolled": true
   },
   "outputs": [],
   "source": [
    "# df[df['cluster'] != df['tag']].count()\n",
    "df['ok'] = df.apply(lambda x:x['cluster'] != x['tag'], axis=1)\n",
    "# df.plot()\n",
    "df.groupby(['tag_text','ok'])['tag'].count()"
   ]
  },
  {
   "cell_type": "markdown",
   "metadata": {},
   "source": [
    "## Train after PCA"
   ]
  },
  {
   "cell_type": "code",
   "execution_count": null,
   "metadata": {
    "collapsed": false
   },
   "outputs": [],
   "source": [
    "y = df['tag']\n",
    "X_train,X_test,y_train,y_test = train_test_split(X_pca, y)\n",
    "print(\"will train on features of a space (%d,%d)\" % X_pca.shape)\n",
    "bayes = get_bayes(X_train, y_train)\n",
    "score_classifier(bayes, X_test, y_test)"
   ]
  },
  {
   "cell_type": "code",
   "execution_count": null,
   "metadata": {
    "collapsed": false
   },
   "outputs": [],
   "source": [
    "K_FOLDS = 10\n",
    "from sklearn.model_selection import StratifiedKFold\n",
    "skf = StratifiedKFold(n_splits=K_FOLDS)\n",
    "# ydf = pd.DataFrame()\n",
    "# ydf['label'] = y\n",
    "\n",
    "y = np.array(y)\n",
    "def bayes_kfolded(X, y):\n",
    "    scores = []\n",
    "    for train_index, test_index in skf.split(X_pca, y):\n",
    "        X_train, X_test = X[train_index].toarray(), X[test_index].toarray()\n",
    "        y_train, y_test = y[train_index], y[test_index]\n",
    "        bayes = get_bayes(X_train, y_train)\n",
    "        scores.append(bayes.score(X_test, y_test))\n",
    "    avg_score = np.average(scores)\n",
    "    print(\"Avg score for %d folds is %.2f\" %(K_FOLDS, avg_score))\n",
    "    \n",
    "# len(y)\n",
    "# y[1]\n",
    "# y\n",
    "bayes_kfolded(X, y)\n",
    "# ydf\n",
    "# type(y)\n",
    "# df.index.duplicated()\n"
   ]
  },
  {
   "cell_type": "code",
   "execution_count": null,
   "metadata": {
    "collapsed": false
   },
   "outputs": [],
   "source": [
    "def predict_text(text):\n",
    "    print(text)\n",
    "    X = vectorizer.transform([text])\n",
    "    X_pca = pca.transform(X.toarray())\n",
    "    proba = bayes.predict_proba(X_pca)\n",
    "    print(proba[0]*100)\n",
    "    \n",
    "\n",
    "predict_text(\"I love java\")\n",
    "predict_text(\"I love python\")\n",
    "predict_text(\"I am using django because it is easy\")\n",
    "predict_text(\"in this button you have to write ajax callback and the page is loading\")\n",
    "predict_text(\"install on the server as root using container\")\n",
    "\n",
    "print(\"0 is python, 1 is java\")"
   ]
  }
 ],
 "metadata": {
  "kernelspec": {
   "display_name": "Python 3",
   "language": "python",
   "name": "python3"
  },
  "language_info": {
   "codemirror_mode": {
    "name": "ipython",
    "version": 3
   },
   "file_extension": ".py",
   "mimetype": "text/x-python",
   "name": "python",
   "nbconvert_exporter": "python",
   "pygments_lexer": "ipython3",
   "version": "3.6.0"
  }
 },
 "nbformat": 4,
 "nbformat_minor": 2
}
