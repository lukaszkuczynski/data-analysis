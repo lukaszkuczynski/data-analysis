{
 "cells": [
  {
   "cell_type": "markdown",
   "metadata": {},
   "source": [
    "# Data preparation"
   ]
  },
  {
   "cell_type": "code",
   "execution_count": null,
   "metadata": {
    "collapsed": false
   },
   "outputs": [],
   "source": [
    "import pandas as pd\n",
    "df_python = pd.read_csv('data\\python_posts.csv')\n",
    "df_python['tag'] = 0\n",
    "df_java = pd.read_csv('data\\java_posts.csv')\n",
    "df_java['tag'] = 1\n",
    "frames = [df_python, df_java]\n",
    "df = pd.concat(frames)\n",
    "df = df.dropna()\n",
    "df.head()"
   ]
  },
  {
   "cell_type": "markdown",
   "metadata": {},
   "source": [
    "## languages\n",
    "Filter out other languages"
   ]
  },
  {
   "cell_type": "code",
   "execution_count": null,
   "metadata": {
    "collapsed": false
   },
   "outputs": [],
   "source": [
    "from langdetect import detect\n",
    "from langdetect.detector import LangDetectException\n",
    "\n",
    "def lang_for_row(row):\n",
    "    lang = None\n",
    "    try:\n",
    "        lang = detect(row[\"content\"])\n",
    "    except LangDetectException as e:\n",
    "#         print(\"caught\")\n",
    "    return lang\n",
    "df['lang'] = df.apply(lang_for_row, axis=1)\n",
    "df.head()\n",
    "before = len(df.index)\n",
    "df = df[df['lang'] == 'en']\n",
    "after = len(df.index)\n",
    "print(\"removed %d rows because detected as not English\" % (before-after))"
   ]
  },
  {
   "cell_type": "markdown",
   "metadata": {},
   "source": [
    "## create tokens"
   ]
  },
  {
   "cell_type": "code",
   "execution_count": null,
   "metadata": {
    "collapsed": false
   },
   "outputs": [],
   "source": [
    "from nltk.tokenize import WhitespaceTokenizer\n",
    "tokenizer = WhitespaceTokenizer()\n",
    "\n",
    "def tokenize(row):\n",
    "    tokens = tokenizer.tokenize(row['content'])\n",
    "    row['tokens'] = [str.lower(token) for token in tokens]\n",
    "    return row\n",
    "\n",
    "df = df.apply(tokenize, axis=1)\n",
    "df.head()\n",
    "# tokenizer.tokenize(\"zzz zz\")"
   ]
  },
  {
   "cell_type": "markdown",
   "metadata": {},
   "source": [
    "## remove stopwords"
   ]
  },
  {
   "cell_type": "code",
   "execution_count": null,
   "metadata": {
    "collapsed": false
   },
   "outputs": [],
   "source": [
    "import nltk\n",
    "from nltk.corpus import stopwords\n",
    "nltk.download('stopwords')\n",
    "\n",
    "def remove_stopwords(row):\n",
    "    stop_words = stopwords.words('english')\n",
    "    row['tokens'] = [w for w in row['tokens'] if not w in stop_words] \n",
    "    return row\n",
    "    \n",
    "df = df.apply(remove_stopwords, axis=1)\n",
    "df.head()"
   ]
  },
  {
   "cell_type": "markdown",
   "metadata": {},
   "source": [
    "## [stemming]"
   ]
  },
  {
   "cell_type": "code",
   "execution_count": null,
   "metadata": {
    "collapsed": false
   },
   "outputs": [],
   "source": [
    "import nltk\n",
    "\n",
    "porter = nltk.PorterStemmer()\n",
    "\n",
    "def simplify(row):\n",
    "    row['tokens'] = [porter.stem(token) for token in row['tokens']] \n",
    "    return row\n",
    "    \n",
    "# df = df.apply(simplify, axis=1)\n",
    "# df.head()"
   ]
  },
  {
   "cell_type": "markdown",
   "metadata": {},
   "source": [
    "# Vectorization"
   ]
  },
  {
   "cell_type": "code",
   "execution_count": null,
   "metadata": {
    "collapsed": false
   },
   "outputs": [],
   "source": [
    "from sklearn.feature_extraction.text import CountVectorizer, HashingVectorizer, TfidfVectorizer\n",
    "# vectorizer = HashingVectorizer(alternate_sign=False, norm='l2', binary=False)\n",
    "vectorizer = TfidfVectorizer(max_df=0.5, min_df=4, use_idf=True)\n",
    "df['features'] = df.apply(lambda row: ' '.join(row['tokens']), axis=1)\n",
    "X = vectorizer.fit_transform(df['features'])\n",
    "df.head()\n",
    "X.shape"
   ]
  },
  {
   "cell_type": "code",
   "execution_count": null,
   "metadata": {
    "collapsed": false
   },
   "outputs": [],
   "source": [
    "# from sklearn.model_selection import train_test_split \n",
    "# y = df['tag']\n",
    "# X_train, X_test, y_train, y_test = train_test_split(X, y, random_state=0)"
   ]
  },
  {
   "cell_type": "markdown",
   "metadata": {},
   "source": [
    "# Training"
   ]
  },
  {
   "cell_type": "code",
   "execution_count": null,
   "metadata": {
    "collapsed": false
   },
   "outputs": [],
   "source": [
    "# from sklearn.naive_bayes import GaussianNB\n",
    "# bayes = GaussianNB()\n",
    "# model = bayes.fit(X_train.toarray(), y_train)"
   ]
  },
  {
   "cell_type": "markdown",
   "metadata": {},
   "source": [
    "# Scoring"
   ]
  },
  {
   "cell_type": "code",
   "execution_count": null,
   "metadata": {
    "collapsed": false
   },
   "outputs": [],
   "source": [
    "# from sklearn.metrics import classification_report\n",
    "# y_pred = model.predict(X_test.toarray())\n",
    "# print(classification_report(y_test, y_pred))"
   ]
  },
  {
   "cell_type": "markdown",
   "metadata": {},
   "source": [
    "# Clustering"
   ]
  },
  {
   "cell_type": "markdown",
   "metadata": {},
   "source": [
    "## Normalization"
   ]
  },
  {
   "cell_type": "code",
   "execution_count": null,
   "metadata": {
    "collapsed": false
   },
   "outputs": [],
   "source": [
    "from sklearn.preprocessing import Normalizer\n",
    "from sklearn.decomposition import TruncatedSVD\n",
    "from sklearn.pipeline import make_pipeline\n",
    "\n",
    "svd = TruncatedSVD(1000)\n",
    "normalizer = Normalizer(copy=False)\n",
    "lsa = make_pipeline(svd, normalizer)\n",
    "# lsa = make_pipeline(normalizer)\n",
    "\n",
    "\n",
    "X_norm = lsa.fit_transform(X)\n",
    "# X_norm = X"
   ]
  },
  {
   "cell_type": "markdown",
   "metadata": {},
   "source": [
    "## Clustering work"
   ]
  },
  {
   "cell_type": "code",
   "execution_count": null,
   "metadata": {
    "collapsed": false
   },
   "outputs": [],
   "source": [
    "import matplotlib.pyplot as plt\n",
    "from sklearn.cluster import KMeans\n",
    "\n",
    "K = range(1,30,3)\n",
    "distortions = []\n",
    "for k in K:\n",
    "    kmeans_for_k = KMeans(n_clusters=k,  random_state=0, n_jobs=-1, verbose=2).fit(X)\n",
    "#     kmeans = KMeans(n_clusters=NO_OF_CLUSTERS, init='k-means++', max_iter=100, n_init=50, random_state=0, n_jobs=-1, verbose=2).fit(X_norm)\n",
    "    distortion = kmeans_for_k.inertia_\n",
    "    distortions.append(distortion)\n",
    "    \n",
    "\n",
    "#     y_pred = kmeans.predict(X_norm)\n",
    "# y_pred_proba = kmeans.predict_proba(X_norm)\n",
    "\n",
    "\n",
    "plt.plot(K, distortions, 'bx-')\n",
    "plt.xlabel('k')\n",
    "plt.ylabel('Sum of Squared Errors')\n",
    "plt.title('The Elbow Method showing the optimal k')\n",
    "plt.show()\n",
    "\n"
   ]
  },
  {
   "cell_type": "markdown",
   "metadata": {},
   "source": [
    "## Centroids"
   ]
  },
  {
   "cell_type": "code",
   "execution_count": null,
   "metadata": {
    "collapsed": false,
    "scrolled": false
   },
   "outputs": [],
   "source": [
    "NO_OF_CLUSTERS=2\n",
    "TOP_ELEMENT_COUNT=40\n",
    "kmeans_for_k = KMeans(n_clusters=NO_OF_CLUSTERS,  random_state=0, n_jobs=-1, verbose=2).fit(X)\n",
    "from wordcloud import WordCloud\n",
    "import matplotlib.pyplot as plt\n",
    "centroids = kmeans_for_k.cluster_centers_.argsort()[:, ::-1]\n",
    "terms = vectorizer.get_feature_names()\n",
    "for n in range(NO_OF_CLUSTERS):\n",
    "    print(\"cluster %d\" % n)\n",
    "    elems = [terms[index] for index in centroids[n, :TOP_ELEMENT_COUNT]]\n",
    "    wc = WordCloud().generate(' '.join(elems))\n",
    "    plt.imshow(wc, interpolation='bilinear')\n",
    "    plt.axis(\"off\")\n",
    "    plt.show()"
   ]
  },
  {
   "cell_type": "markdown",
   "metadata": {},
   "source": [
    "# Visualization"
   ]
  },
  {
   "cell_type": "code",
   "execution_count": null,
   "metadata": {
    "collapsed": false
   },
   "outputs": [],
   "source": [
    "# from sklearn.manifold import TSNE\n",
    "# from sklearn.decomposition import PCA\n",
    "\n",
    "# tsne = TSNE(n_components=2, init='pca', random_state=0)\n",
    "# X_tsne = tsne.fit_transform(X_norm.toarray())\n",
    "# df['x-tsne'] = X_tsne[:,0]\n",
    "# df['y-tsne'] = X_tsne[:,1]\n",
    "# df['prediction'] = y_pred\n"
   ]
  }
 ],
 "metadata": {
  "kernelspec": {
   "display_name": "Python 3",
   "language": "python",
   "name": "python3"
  },
  "language_info": {
   "codemirror_mode": {
    "name": "ipython",
    "version": 3
   },
   "file_extension": ".py",
   "mimetype": "text/x-python",
   "name": "python",
   "nbconvert_exporter": "python",
   "pygments_lexer": "ipython3",
   "version": "3.6.0"
  }
 },
 "nbformat": 4,
 "nbformat_minor": 2
}
