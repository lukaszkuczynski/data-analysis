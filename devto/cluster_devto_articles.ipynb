{
 "cells": [
  {
   "cell_type": "markdown",
   "metadata": {},
   "source": [
    "# Data preparation"
   ]
  },
  {
   "cell_type": "code",
   "execution_count": 90,
   "metadata": {
    "collapsed": false
   },
   "outputs": [
    {
     "data": {
      "text/html": [
       "<div>\n",
       "<table border=\"1\" class=\"dataframe\">\n",
       "  <thead>\n",
       "    <tr style=\"text-align: right;\">\n",
       "      <th></th>\n",
       "      <th>id</th>\n",
       "      <th>title</th>\n",
       "      <th>content</th>\n",
       "      <th>tag</th>\n",
       "    </tr>\n",
       "  </thead>\n",
       "  <tbody>\n",
       "    <tr>\n",
       "      <th>0</th>\n",
       "      <td>67371</td>\n",
       "      <td>Silly Name Generator</td>\n",
       "      <td>\\n\\n\\n\\n  Table of Contents\\n\\n\\n Introduction...</td>\n",
       "      <td>0</td>\n",
       "    </tr>\n",
       "    <tr>\n",
       "      <th>1</th>\n",
       "      <td>67290</td>\n",
       "      <td>Profiling: check how long it takes to run a Py...</td>\n",
       "      <td>\\nFrom Python’s official documentation: “A pro...</td>\n",
       "      <td>0</td>\n",
       "    </tr>\n",
       "    <tr>\n",
       "      <th>2</th>\n",
       "      <td>67273</td>\n",
       "      <td>First Adventure in Malware Data Science</td>\n",
       "      <td>\\nI haven’t been a software developer for very...</td>\n",
       "      <td>0</td>\n",
       "    </tr>\n",
       "    <tr>\n",
       "      <th>3</th>\n",
       "      <td>67057</td>\n",
       "      <td>PyKup - Web App backup manager</td>\n",
       "      <td>\\nGitHub Link\\n\\n\\n\\n  PyKup - WebApp backup m...</td>\n",
       "      <td>0</td>\n",
       "    </tr>\n",
       "    <tr>\n",
       "      <th>4</th>\n",
       "      <td>67121</td>\n",
       "      <td>How to reverse a list in Python</td>\n",
       "      <td>\\n\\n\\n\\n\\nChristian Barra\\n@christianbarra\\n\\n...</td>\n",
       "      <td>0</td>\n",
       "    </tr>\n",
       "  </tbody>\n",
       "</table>\n",
       "</div>"
      ],
      "text/plain": [
       "      id                                              title  \\\n",
       "0  67371                               Silly Name Generator   \n",
       "1  67290  Profiling: check how long it takes to run a Py...   \n",
       "2  67273            First Adventure in Malware Data Science   \n",
       "3  67057                     PyKup - Web App backup manager   \n",
       "4  67121                    How to reverse a list in Python   \n",
       "\n",
       "                                             content  tag  \n",
       "0  \\n\\n\\n\\n  Table of Contents\\n\\n\\n Introduction...    0  \n",
       "1  \\nFrom Python’s official documentation: “A pro...    0  \n",
       "2  \\nI haven’t been a software developer for very...    0  \n",
       "3  \\nGitHub Link\\n\\n\\n\\n  PyKup - WebApp backup m...    0  \n",
       "4  \\n\\n\\n\\n\\nChristian Barra\\n@christianbarra\\n\\n...    0  "
      ]
     },
     "execution_count": 90,
     "metadata": {},
     "output_type": "execute_result"
    }
   ],
   "source": [
    "import pandas as pd\n",
    "df_python = pd.read_csv('data\\python_posts.csv')\n",
    "df_python['tag'] = 0\n",
    "df_java = pd.read_csv('data\\java_posts.csv')\n",
    "df_java['tag'] = 1\n",
    "frames = [df_python, df_java]\n",
    "df = pd.concat(frames)\n",
    "df = df.dropna()\n",
    "df.head()"
   ]
  },
  {
   "cell_type": "markdown",
   "metadata": {},
   "source": [
    "## create tokens"
   ]
  },
  {
   "cell_type": "code",
   "execution_count": 91,
   "metadata": {
    "collapsed": false
   },
   "outputs": [
    {
     "data": {
      "text/html": [
       "<div>\n",
       "<table border=\"1\" class=\"dataframe\">\n",
       "  <thead>\n",
       "    <tr style=\"text-align: right;\">\n",
       "      <th></th>\n",
       "      <th>id</th>\n",
       "      <th>title</th>\n",
       "      <th>content</th>\n",
       "      <th>tag</th>\n",
       "      <th>tokens</th>\n",
       "    </tr>\n",
       "  </thead>\n",
       "  <tbody>\n",
       "    <tr>\n",
       "      <th>0</th>\n",
       "      <td>67371</td>\n",
       "      <td>Silly Name Generator</td>\n",
       "      <td>\\n\\n\\n\\n  Table of Contents\\n\\n\\n Introduction...</td>\n",
       "      <td>0</td>\n",
       "      <td>[Table, of, Contents, Introduction, Name, List...</td>\n",
       "    </tr>\n",
       "    <tr>\n",
       "      <th>1</th>\n",
       "      <td>67290</td>\n",
       "      <td>Profiling: check how long it takes to run a Py...</td>\n",
       "      <td>\\nFrom Python’s official documentation: “A pro...</td>\n",
       "      <td>0</td>\n",
       "      <td>[From, Python’s, official, documentation:, “A,...</td>\n",
       "    </tr>\n",
       "    <tr>\n",
       "      <th>2</th>\n",
       "      <td>67273</td>\n",
       "      <td>First Adventure in Malware Data Science</td>\n",
       "      <td>\\nI haven’t been a software developer for very...</td>\n",
       "      <td>0</td>\n",
       "      <td>[I, haven’t, been, a, software, developer, for...</td>\n",
       "    </tr>\n",
       "    <tr>\n",
       "      <th>3</th>\n",
       "      <td>67057</td>\n",
       "      <td>PyKup - Web App backup manager</td>\n",
       "      <td>\\nGitHub Link\\n\\n\\n\\n  PyKup - WebApp backup m...</td>\n",
       "      <td>0</td>\n",
       "      <td>[GitHub, Link, PyKup, -, WebApp, backup, manag...</td>\n",
       "    </tr>\n",
       "    <tr>\n",
       "      <th>4</th>\n",
       "      <td>67121</td>\n",
       "      <td>How to reverse a list in Python</td>\n",
       "      <td>\\n\\n\\n\\n\\nChristian Barra\\n@christianbarra\\n\\n...</td>\n",
       "      <td>0</td>\n",
       "      <td>[Christian, Barra, @christianbarra, How, to, r...</td>\n",
       "    </tr>\n",
       "  </tbody>\n",
       "</table>\n",
       "</div>"
      ],
      "text/plain": [
       "      id                                              title  \\\n",
       "0  67371                               Silly Name Generator   \n",
       "1  67290  Profiling: check how long it takes to run a Py...   \n",
       "2  67273            First Adventure in Malware Data Science   \n",
       "3  67057                     PyKup - Web App backup manager   \n",
       "4  67121                    How to reverse a list in Python   \n",
       "\n",
       "                                             content  tag  \\\n",
       "0  \\n\\n\\n\\n  Table of Contents\\n\\n\\n Introduction...    0   \n",
       "1  \\nFrom Python’s official documentation: “A pro...    0   \n",
       "2  \\nI haven’t been a software developer for very...    0   \n",
       "3  \\nGitHub Link\\n\\n\\n\\n  PyKup - WebApp backup m...    0   \n",
       "4  \\n\\n\\n\\n\\nChristian Barra\\n@christianbarra\\n\\n...    0   \n",
       "\n",
       "                                              tokens  \n",
       "0  [Table, of, Contents, Introduction, Name, List...  \n",
       "1  [From, Python’s, official, documentation:, “A,...  \n",
       "2  [I, haven’t, been, a, software, developer, for...  \n",
       "3  [GitHub, Link, PyKup, -, WebApp, backup, manag...  \n",
       "4  [Christian, Barra, @christianbarra, How, to, r...  "
      ]
     },
     "execution_count": 91,
     "metadata": {},
     "output_type": "execute_result"
    }
   ],
   "source": [
    "from nltk.tokenize import WhitespaceTokenizer\n",
    "tokenizer = WhitespaceTokenizer()\n",
    "\n",
    "def tokenize(row):\n",
    "    row['tokens'] = tokenizer.tokenize(row['content'])\n",
    "    return row\n",
    "\n",
    "df = df.apply(tokenize, axis=1)\n",
    "df.head()\n",
    "# tokenizer.tokenize(\"zzz zz\")"
   ]
  },
  {
   "cell_type": "markdown",
   "metadata": {},
   "source": [
    "## remove stopwords"
   ]
  },
  {
   "cell_type": "code",
   "execution_count": 92,
   "metadata": {
    "collapsed": false
   },
   "outputs": [
    {
     "name": "stdout",
     "output_type": "stream",
     "text": [
      "[nltk_data] Downloading package stopwords to\n",
      "[nltk_data]     C:\\Users\\lukasz\\AppData\\Roaming\\nltk_data...\n",
      "[nltk_data]   Package stopwords is already up-to-date!\n"
     ]
    },
    {
     "data": {
      "text/html": [
       "<div>\n",
       "<table border=\"1\" class=\"dataframe\">\n",
       "  <thead>\n",
       "    <tr style=\"text-align: right;\">\n",
       "      <th></th>\n",
       "      <th>id</th>\n",
       "      <th>title</th>\n",
       "      <th>content</th>\n",
       "      <th>tag</th>\n",
       "      <th>tokens</th>\n",
       "    </tr>\n",
       "  </thead>\n",
       "  <tbody>\n",
       "    <tr>\n",
       "      <th>0</th>\n",
       "      <td>67371</td>\n",
       "      <td>Silly Name Generator</td>\n",
       "      <td>\\n\\n\\n\\n  Table of Contents\\n\\n\\n Introduction...</td>\n",
       "      <td>0</td>\n",
       "      <td>[Table, Contents, Introduction, Name, Lists, F...</td>\n",
       "    </tr>\n",
       "    <tr>\n",
       "      <th>1</th>\n",
       "      <td>67290</td>\n",
       "      <td>Profiling: check how long it takes to run a Py...</td>\n",
       "      <td>\\nFrom Python’s official documentation: “A pro...</td>\n",
       "      <td>0</td>\n",
       "      <td>[From, Python’s, official, documentation:, “A,...</td>\n",
       "    </tr>\n",
       "    <tr>\n",
       "      <th>2</th>\n",
       "      <td>67273</td>\n",
       "      <td>First Adventure in Malware Data Science</td>\n",
       "      <td>\\nI haven’t been a software developer for very...</td>\n",
       "      <td>0</td>\n",
       "      <td>[I, haven’t, software, developer, long,, I, en...</td>\n",
       "    </tr>\n",
       "    <tr>\n",
       "      <th>3</th>\n",
       "      <td>67057</td>\n",
       "      <td>PyKup - Web App backup manager</td>\n",
       "      <td>\\nGitHub Link\\n\\n\\n\\n  PyKup - WebApp backup m...</td>\n",
       "      <td>0</td>\n",
       "      <td>[GitHub, Link, PyKup, -, WebApp, backup, manag...</td>\n",
       "    </tr>\n",
       "    <tr>\n",
       "      <th>4</th>\n",
       "      <td>67121</td>\n",
       "      <td>How to reverse a list in Python</td>\n",
       "      <td>\\n\\n\\n\\n\\nChristian Barra\\n@christianbarra\\n\\n...</td>\n",
       "      <td>0</td>\n",
       "      <td>[Christian, Barra, @christianbarra, How, rever...</td>\n",
       "    </tr>\n",
       "  </tbody>\n",
       "</table>\n",
       "</div>"
      ],
      "text/plain": [
       "      id                                              title  \\\n",
       "0  67371                               Silly Name Generator   \n",
       "1  67290  Profiling: check how long it takes to run a Py...   \n",
       "2  67273            First Adventure in Malware Data Science   \n",
       "3  67057                     PyKup - Web App backup manager   \n",
       "4  67121                    How to reverse a list in Python   \n",
       "\n",
       "                                             content  tag  \\\n",
       "0  \\n\\n\\n\\n  Table of Contents\\n\\n\\n Introduction...    0   \n",
       "1  \\nFrom Python’s official documentation: “A pro...    0   \n",
       "2  \\nI haven’t been a software developer for very...    0   \n",
       "3  \\nGitHub Link\\n\\n\\n\\n  PyKup - WebApp backup m...    0   \n",
       "4  \\n\\n\\n\\n\\nChristian Barra\\n@christianbarra\\n\\n...    0   \n",
       "\n",
       "                                              tokens  \n",
       "0  [Table, Contents, Introduction, Name, Lists, F...  \n",
       "1  [From, Python’s, official, documentation:, “A,...  \n",
       "2  [I, haven’t, software, developer, long,, I, en...  \n",
       "3  [GitHub, Link, PyKup, -, WebApp, backup, manag...  \n",
       "4  [Christian, Barra, @christianbarra, How, rever...  "
      ]
     },
     "execution_count": 92,
     "metadata": {},
     "output_type": "execute_result"
    }
   ],
   "source": [
    "import nltk\n",
    "from nltk.corpus import stopwords\n",
    "nltk.download('stopwords')\n",
    "\n",
    "def remove_stopwords(row):\n",
    "    stop_words = stopwords.words('english')\n",
    "    row['tokens'] = [w for w in row['tokens'] if not w in stop_words] \n",
    "    return row\n",
    "    \n",
    "df = df.apply(remove_stopwords, axis=1)\n",
    "df.head()"
   ]
  },
  {
   "cell_type": "markdown",
   "metadata": {},
   "source": [
    "## lowercase and stemming"
   ]
  },
  {
   "cell_type": "code",
   "execution_count": 93,
   "metadata": {
    "collapsed": false
   },
   "outputs": [
    {
     "data": {
      "text/html": [
       "<div>\n",
       "<table border=\"1\" class=\"dataframe\">\n",
       "  <thead>\n",
       "    <tr style=\"text-align: right;\">\n",
       "      <th></th>\n",
       "      <th>id</th>\n",
       "      <th>title</th>\n",
       "      <th>content</th>\n",
       "      <th>tag</th>\n",
       "      <th>tokens</th>\n",
       "    </tr>\n",
       "  </thead>\n",
       "  <tbody>\n",
       "    <tr>\n",
       "      <th>0</th>\n",
       "      <td>67371</td>\n",
       "      <td>Silly Name Generator</td>\n",
       "      <td>\\n\\n\\n\\n  Table of Contents\\n\\n\\n Introduction...</td>\n",
       "      <td>0</td>\n",
       "      <td>[tabl, content, introduct, name, list, first, ...</td>\n",
       "    </tr>\n",
       "    <tr>\n",
       "      <th>1</th>\n",
       "      <td>67290</td>\n",
       "      <td>Profiling: check how long it takes to run a Py...</td>\n",
       "      <td>\\nFrom Python’s official documentation: “A pro...</td>\n",
       "      <td>0</td>\n",
       "      <td>[from, python’, offici, documentation:, “A, pr...</td>\n",
       "    </tr>\n",
       "    <tr>\n",
       "      <th>2</th>\n",
       "      <td>67273</td>\n",
       "      <td>First Adventure in Malware Data Science</td>\n",
       "      <td>\\nI haven’t been a software developer for very...</td>\n",
       "      <td>0</td>\n",
       "      <td>[I, haven’t, softwar, develop, long,, I, enjoy...</td>\n",
       "    </tr>\n",
       "    <tr>\n",
       "      <th>3</th>\n",
       "      <td>67057</td>\n",
       "      <td>PyKup - Web App backup manager</td>\n",
       "      <td>\\nGitHub Link\\n\\n\\n\\n  PyKup - WebApp backup m...</td>\n",
       "      <td>0</td>\n",
       "      <td>[github, link, pykup, -, webapp, backup, manag...</td>\n",
       "    </tr>\n",
       "    <tr>\n",
       "      <th>4</th>\n",
       "      <td>67121</td>\n",
       "      <td>How to reverse a list in Python</td>\n",
       "      <td>\\n\\n\\n\\n\\nChristian Barra\\n@christianbarra\\n\\n...</td>\n",
       "      <td>0</td>\n",
       "      <td>[christian, barra, @christianbarra, how, rever...</td>\n",
       "    </tr>\n",
       "  </tbody>\n",
       "</table>\n",
       "</div>"
      ],
      "text/plain": [
       "      id                                              title  \\\n",
       "0  67371                               Silly Name Generator   \n",
       "1  67290  Profiling: check how long it takes to run a Py...   \n",
       "2  67273            First Adventure in Malware Data Science   \n",
       "3  67057                     PyKup - Web App backup manager   \n",
       "4  67121                    How to reverse a list in Python   \n",
       "\n",
       "                                             content  tag  \\\n",
       "0  \\n\\n\\n\\n  Table of Contents\\n\\n\\n Introduction...    0   \n",
       "1  \\nFrom Python’s official documentation: “A pro...    0   \n",
       "2  \\nI haven’t been a software developer for very...    0   \n",
       "3  \\nGitHub Link\\n\\n\\n\\n  PyKup - WebApp backup m...    0   \n",
       "4  \\n\\n\\n\\n\\nChristian Barra\\n@christianbarra\\n\\n...    0   \n",
       "\n",
       "                                              tokens  \n",
       "0  [tabl, content, introduct, name, list, first, ...  \n",
       "1  [from, python’, offici, documentation:, “A, pr...  \n",
       "2  [I, haven’t, softwar, develop, long,, I, enjoy...  \n",
       "3  [github, link, pykup, -, webapp, backup, manag...  \n",
       "4  [christian, barra, @christianbarra, how, rever...  "
      ]
     },
     "execution_count": 93,
     "metadata": {},
     "output_type": "execute_result"
    }
   ],
   "source": [
    "import nltk\n",
    "\n",
    "porter = nltk.PorterStemmer()\n",
    "\n",
    "def simplify(row):\n",
    "    row['tokens'] = [porter.stem(token) for token in row['tokens']] \n",
    "    return row\n",
    "    \n",
    "df = df.apply(simplify, axis=1)\n",
    "df.head()"
   ]
  },
  {
   "cell_type": "markdown",
   "metadata": {},
   "source": [
    "# Vectorization"
   ]
  },
  {
   "cell_type": "code",
   "execution_count": 94,
   "metadata": {
    "collapsed": false
   },
   "outputs": [
    {
     "data": {
      "text/plain": [
       "(587, 20256)"
      ]
     },
     "execution_count": 94,
     "metadata": {},
     "output_type": "execute_result"
    }
   ],
   "source": [
    "from sklearn.feature_extraction.text import CountVectorizer\n",
    "cv = CountVectorizer()\n",
    "df['features'] = df.apply(lambda row: ' '.join(row['tokens']), axis=1)\n",
    "X = cv.fit_transform(df['features'])\n",
    "X.shape"
   ]
  },
  {
   "cell_type": "code",
   "execution_count": 95,
   "metadata": {
    "collapsed": false
   },
   "outputs": [],
   "source": [
    "from sklearn.model_selection import train_test_split \n",
    "y = df['tag']\n",
    "X_train, X_test, y_train, y_test = train_test_split(X, y)"
   ]
  },
  {
   "cell_type": "markdown",
   "metadata": {},
   "source": [
    "# Training"
   ]
  },
  {
   "cell_type": "code",
   "execution_count": 96,
   "metadata": {
    "collapsed": false
   },
   "outputs": [],
   "source": [
    "from sklearn.naive_bayes import GaussianNB\n",
    "bayes = GaussianNB()\n",
    "model = bayes.fit(X_train.toarray(), y_train)"
   ]
  },
  {
   "cell_type": "markdown",
   "metadata": {},
   "source": [
    "# Scoring"
   ]
  },
  {
   "cell_type": "code",
   "execution_count": 97,
   "metadata": {
    "collapsed": false
   },
   "outputs": [
    {
     "name": "stdout",
     "output_type": "stream",
     "text": [
      "             precision    recall  f1-score   support\n",
      "\n",
      "          0       0.77      0.76      0.77        76\n",
      "          1       0.75      0.76      0.76        71\n",
      "\n",
      "avg / total       0.76      0.76      0.76       147\n",
      "\n"
     ]
    }
   ],
   "source": [
    "from sklearn.metrics import classification_report\n",
    "y_pred = model.predict(X_test.toarray())\n",
    "print(classification_report(y_test, y_pred))"
   ]
  }
 ],
 "metadata": {
  "kernelspec": {
   "display_name": "Python 3",
   "language": "python",
   "name": "python3"
  },
  "language_info": {
   "codemirror_mode": {
    "name": "ipython",
    "version": 3
   },
   "file_extension": ".py",
   "mimetype": "text/x-python",
   "name": "python",
   "nbconvert_exporter": "python",
   "pygments_lexer": "ipython3",
   "version": "3.6.0"
  }
 },
 "nbformat": 4,
 "nbformat_minor": 2
}
